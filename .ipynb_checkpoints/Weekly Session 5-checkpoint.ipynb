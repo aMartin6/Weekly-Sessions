{
 "cells": [
  {
   "cell_type": "markdown",
   "metadata": {},
   "source": [
    "## Goal\n",
    "To develop further capability with numerical methods for integration.\n",
    "\n",
    "We will also have a brief introduction to the idea of numerical\n",
    "approximation of derivatives, as preparation for thinking about\n",
    "ordinary and partial differential equations.\n",
    "\n",
    "## Readings\n",
    "Let us list all the sections we are covering in Newman Chapter 5 **Integrals and derivatives**, including those we read last week:\n",
    "\n",
    "    5.1 Fundamental methods for evaluating integrals\n",
    "\n",
    "    5.2 Errors on integrals\n",
    "\n",
    "    5.3 Choosing the number of steps\n",
    "\n",
    "    5.4 Romberg integration*\n",
    "\n",
    "    5.5 Higher-order integration methods\n",
    "\n",
    "    5.7 Choosing an integration method\n",
    "\n",
    "    5.8 Integrals over infinite ranges*\n",
    "\n",
    "    5.10 Derivatives* -- Just read subsections 5.10.1-5.10.3 for the basics.\n",
    "\n",
    "\\* New reading this week.\n"
   ]
  },
  {
   "cell_type": "code",
   "execution_count": 2,
   "metadata": {},
   "outputs": [
    {
     "data": {
      "text/html": [
       "<style>\n",
       "div.warn {\n",
       "    background-color: black;\n",
       "    border-color: #dFb5b4;\n",
       "    border-left: 5px solid #dfb5b4;\n",
       "    padding: 0.5em\n",
       "    color: white;\n",
       "    }\n",
       " </style>\n",
       "\n",
       " <style>\n",
       " div.answer {\n",
       "     background-color: lightblue;\n",
       "     border-color: #dFb5b4;\n",
       "     border-left: 5px solid #dfb5b4;\n",
       "     padding: 0.5em\n",
       "     }\n",
       "  </style>\n"
      ],
      "text/plain": [
       "<IPython.core.display.HTML object>"
      ]
     },
     "execution_count": 2,
     "metadata": {},
     "output_type": "execute_result"
    }
   ],
   "source": [
    "#For colored cells, currently blue cells, black text \n",
    "#https://stackoverflow.com/questions/18024769/adding-custom-styled-paragraphs-in-markdown-cells\n",
    "from IPython.core.display import HTML\n",
    "def css_styling():\n",
    "    styles = open(\"style.css\", \"r\").read()\n",
    "    return HTML(styles)\n",
    "css_styling()"
   ]
  },
  {
   "cell_type": "markdown",
   "metadata": {},
   "source": [
    "<div class=answer>\n",
    "*This should be a blue cell with black font if you set the filepath correctly*</font>\n",
    "<div/>"
   ]
  },
  {
   "cell_type": "markdown",
   "metadata": {},
   "source": [
    "## Overview\n",
    "\n",
    "There are two aspects to this week's investigations:\n",
    "\n",
    "1.  The first is more technically oriented - we will reorient our thinking towards calculating results to a  given *tolerance*, rather than with a fixed number of steps.  We will then explore the idea of extrapolating to a more accurate answer - Romberg integration is an example of the more general approach of Richardson extrapolation, which is also applied in other contexts (in particular, solution of differential equations).\n",
    "\n",
    "2. The second aspect is oriented towards developing savvy in the use of numerical integration.  We will develop a feel for some of the less well-behaved types of integrals which one encounters in practice, and see ways of handling integrals over infinite ranges."
   ]
  },
  {
   "cell_type": "markdown",
   "metadata": {},
   "source": [
    "This week you may use your own integration technique, or ```integrate.py``` to do this.  See some directions below the answer box for importing ```integrate.py```.  To use it, look at your work from last week, or call ```help(integrate)```.  To import the module, either you need a local copy of ```integrate.py``` in which case you can run:  "
   ]
  },
  {
   "cell_type": "code",
   "execution_count": 3,
   "metadata": {
    "collapsed": true
   },
   "outputs": [],
   "source": [
    "import integrate\n",
    "import math\n",
    "\n",
    "# benchmark function - as last week\n",
    "def f_decay(x):\n",
    "    return math.exp(-x)\n",
    "int_decay = 1 - 1/math.e\n",
    "\n",
    "# sample quick checks\n",
    "#print(integrate.integrate(f_decay,(0,1),100)[0])           #trapezoid, 100 steps\n",
    "#print(integrate.integrate(f_decay,(0,1),1000)[0])          #trapezoid, 100 steps\n",
    "#print(integrate.integrate(f_decay,(0,1),100,order=2)[0])   #simpsons, 1000 steps"
   ]
  },
  {
   "cell_type": "markdown",
   "metadata": {},
   "source": [
    "Or alternatively you can use the ```sys``` module (short for system) to update the filepaths that python will look for modules in.  The code for that is:  "
   ]
  },
  {
   "cell_type": "code",
   "execution_count": 4,
   "metadata": {
    "collapsed": true
   },
   "outputs": [],
   "source": [
    "import sys\n",
    "sys.path.append(\"/Users/mcde2235/Box Sync/Coursework/PHY325/Spring2018/Labs/Lab4\")\n",
    "import integrate\n",
    "\n"
   ]
  },
  {
   "cell_type": "markdown",
   "metadata": {},
   "source": [
    "**FYI: if you modify your module, you will need to restart the kernel to use the modified codes.  There are some alternative methods, but nothing elegant\n",
    "[source](https://support.enthought.com/hc/en-us/articles/204469240-Jupyter-IPython-After-editing-a-module-changes-are-not-effective-without-kernel-restart).**"
   ]
  },
  {
   "cell_type": "code",
   "execution_count": 5,
   "metadata": {
    "collapsed": true
   },
   "outputs": [],
   "source": [
    "bVerbose = True"
   ]
  },
  {
   "cell_type": "markdown",
   "metadata": {},
   "source": [
    "## Exercise 1: \n",
    "\n",
    "In Section 5.2.1, Newman describes the practical method for estimating the error in a trapezoidal rule or Simpson's rule calculation.  Try these error estimates out for the trapezoidal rule on our benchmark integral, with $20$ steps\n",
    "and $200$ steps.  __How close are the estimates to the actual errors?__  What about the sign (this will matter when we get to Romberg integration)? Repeat for Simpson's rule."
   ]
  },
  {
   "cell_type": "code",
   "execution_count": 6,
   "metadata": {},
   "outputs": [
    {
     "name": "stdout",
     "output_type": "stream",
     "text": [
      "Trapezoidal N = 20\n",
      "Euler-Maclaurin: -0.00013169178308928287\n",
      "Actual: -0.000131686296258\n",
      "residual/error: 0.999958335814\n",
      "\n",
      "Trapezoidal N = 200\n",
      "Euler-Maclaurin: -1.3169178308928286e-06\n",
      "Actual: -1.31691728245e-06\n",
      "residual/error: 0.999999583537\n",
      "\n",
      "Simpson N = 20\n",
      "Euler-Maclaurin: -4.3897261029760966e-08\n",
      "Actual: -2.19420999148e-08\n",
      "residual/error: 0.499851229896\n",
      "\n",
      "Simpson N = 200\n",
      "Euler-Maclaurin: -4.3897261029760956e-12\n",
      "Actual: -2.19468887508e-12\n",
      "residual/error: 0.499960321805\n",
      "\n"
     ]
    }
   ],
   "source": [
    "import math\n",
    "import numpy as np\n",
    "import integrate\n",
    "\n",
    "def negExp (x):\n",
    "    \"\"\"Returns e^(-x) of some value x\n",
    "    \n",
    "    arguement: x\n",
    "    \n",
    "    returned: e^(-x)\"\"\"\n",
    "    \n",
    "    return math.exp (-x)\n",
    "\n",
    "a = 0\n",
    "b = 1\n",
    "\n",
    "def negExpDerivFirst (xValue):\n",
    "    \"\"\"Returns the first derivative of the function f(x) = e^(-x) for some x\n",
    "    \n",
    "    arguement: x\n",
    "    \n",
    "    returend: d/dx(e^(-x))\"\"\"\n",
    "    \n",
    "    return -negExp (xValue)\n",
    "\n",
    "def negExpDerivThird (xValue):\n",
    "    \"\"\"Returns the third derivative of the function f(x) = e^(-x) for some x\n",
    "    \n",
    "    arguement: x\n",
    "    \n",
    "    returend: d^3/d^3x(e^(-x))\"\"\"\n",
    "    \n",
    "    return negExpDerivFirst (xValue)\n",
    "\n",
    "def unsignedError (acceptedValue, actualValue):\n",
    "    \"\"\"Returns the signed error given an accepted value and an actual value\n",
    "    \n",
    "    arguements: accepted value, actual value\n",
    "    \n",
    "    returned: the difference between the two arguements\"\"\"\n",
    "    \n",
    "    return acceptedValue - actualValue\n",
    "\n",
    "def eulerErrorTrapezoidal (x1, x2, h, derivFunc):\n",
    "    \"\"\"Returns the Euler leading error of a trapezoidal approximation with the given derivative\n",
    "    \n",
    "    arguments: x1 - first x-value in domain\n",
    "               x2 - second x-value in domain\n",
    "               h - step size for integration\n",
    "               derivFunc - the derivative of the function\n",
    "               \n",
    "    returned: the euler leading error\n",
    "    \"\"\"\n",
    "    \n",
    "    return 1 / 12 * h**2 * (derivFunc (a) - derivFunc (b))\n",
    "    \n",
    "def eulerErrorSimpsons (x1, x2, h, derivFunc):\n",
    "    \"\"\"Returns the Euler leading error of a Simpson's approximation with the given derivative\n",
    "    \n",
    "    arguments: x1 - first x-value in domain\n",
    "               x2 - second x-value in domain\n",
    "               h - step size for integration\n",
    "               derivFunc - the derivative of the function\n",
    "               \n",
    "    returned: the euler leading error\n",
    "    \"\"\"\n",
    "    \n",
    "    return 1 / 90 * h**4 * (derivFunc (a) - derivFunc(b))\n",
    "    \n",
    "acceptedValue = -np.exp (-1) + 1\n",
    "\n",
    "#trapezoidal Euler-Maclaurin formula\n",
    "N = 20\n",
    "h = (a - b) / N\n",
    "\n",
    "trapEps = 1 / 12 * h**2 * (negExpDerivFirst (a) - negExpDerivFirst (b))\n",
    "integralValue, integralXValues, integrandValues = integrate.integrate (negExp, (a, b), N, order = 1, \\\n",
    "                                                                       float_type = np.float64)\n",
    "trapEpsActual = unsignedError (acceptedValue, integralValue) \n",
    "print (\"Trapezoidal N =\", N)\n",
    "print (\"Euler-Maclaurin:\", trapEps)\n",
    "print (\"Actual:\", trapEpsActual)\n",
    "print (\"residual/error:\", trapEpsActual / trapEps)\n",
    "print ()\n",
    "\n",
    "N = 200\n",
    "h = (a - b) / N\n",
    "\n",
    "trapEps = 1 / 12 * h**2 * (negExpDerivFirst (a) - negExpDerivFirst (b))\n",
    "integralValue, integralXValues, integrandValues = integrate.integrate (negExp, (a, b), N, order = 1, \\\n",
    "                                                                       float_type = np.float64)\n",
    "trapEpsActual = unsignedError (acceptedValue, integralValue) \n",
    "print (\"Trapezoidal N =\", N)\n",
    "print (\"Euler-Maclaurin:\", trapEps)\n",
    "print (\"Actual:\", trapEpsActual)\n",
    "print (\"residual/error:\", trapEpsActual / trapEps)\n",
    "print ()\n",
    "\n",
    "#simpson Euler-Maclaurin formula\n",
    "N = 20\n",
    "h = (a - b) / N\n",
    "\n",
    "simpEps = 1 / 90 * (h**4) * (negExpDerivThird (a) - negExpDerivThird (b))\n",
    "integralValue, integralXValues, integrandValues = integrate.integrate (negExp, (a, b), N, order = 2, \\\n",
    "                                                                       float_type = np.float64)\n",
    "simpEpsActual = unsignedError (acceptedValue, integralValue)\n",
    "print (\"Simpson N =\", N)\n",
    "print (\"Euler-Maclaurin:\", simpEps)\n",
    "print (\"Actual:\", simpEpsActual)\n",
    "print (\"residual/error:\", simpEpsActual / simpEps)\n",
    "print ()\n",
    "\n",
    "N = 200\n",
    "h = (a - b) / N\n",
    "\n",
    "simpEps = 1 / 90 * (h**4) * (negExpDerivThird (a) - negExpDerivThird (b))\n",
    "integralValue, integralXValues, integrandValues = integrate.integrate (negExp, (a, b), N, order = 2, \\\n",
    "                                                                       float_type = np.float64)\n",
    "simpEpsActual = unsignedError (acceptedValue, integralValue)\n",
    "print (\"Simpson N =\", N)\n",
    "print (\"Euler-Maclaurin:\", simpEps)\n",
    "print (\"Actual:\", simpEpsActual)\n",
    "print (\"residual/error:\", simpEpsActual / simpEps)\n",
    "print ()"
   ]
  },
  {
   "cell_type": "markdown",
   "metadata": {},
   "source": [
    "## Exercise 2\n",
    "### Trapezoidal rule with tolerance goal (Newman's Adaptive Method)\n",
    "\n",
    "In practice, integration with a fixed  number of *steps* is not useful for automated use.  If your code must calculate millions of integrals (or even just hundreds of integrals), and you need a certain accuracy, it is simply impractical for you to intervene and hand-pick the number of steps for each integral.  You could just choose a \"really big'' number of steps for all integrals, even when they are not needed, but this will make your code impractically slow (perhaps factors of hundreds slower than it needs to be).\n",
    "\n",
    "Following the approach outlined in Newman Section 5.3, let us write a function which uses the trapezoidal rule to calculate with $1$, $2$, $4$, $8$, $\\ldots$ steps (*i.e.*, $~2^i$ steps), until the error estimate falls below a specified tolerance.  \n",
    "\n",
    "As Newman points out, we do not need to calculate all the points from scratch in each successive iteration.  Your\n",
    "function should follow's Newman's approach, *i.e.*, \"reusing'' the value of the previous integral to avoid evaluating the integrand $f$ at the same point more than once.\n",
    "\n",
    "In fact, let us see how how much of an improvement this gives. Suppose we ultimately need, say, $2^{5}$ steps.  How many times would we have to evaluate $f$ if we evaluated the integral from scratch with each iteration ($1$, $2$, $4$, $8$, $\\ldots$ steps)?  How many times would we have to evaluate $f$ if we reused the prior integrals, instead?"
   ]
  },
  {
   "cell_type": "markdown",
   "metadata": {},
   "source": [
    "<div class=answer>\n",
    "<div/>\n",
    "If we evaluated the integral from from scratch, we would have to calcualte 63 total trapezoids. If we use Newman's method, we could have to calculate, 32 trapezoids."
   ]
  },
  {
   "cell_type": "markdown",
   "metadata": {},
   "source": [
    "Also, it will help if your function can produce verbose output, showing the integral and error estimate at each stage, and the residual relative to a known true value (you can peek at ```romberg.py``` for ideas on how to do this).\n",
    "\n",
    "You can name your function ```integrate_adaptive```, and either embed it in this notebook in a code cell (as usual) or add it to the ```integrate.py``` which I gave you last week.   "
   ]
  },
  {
   "cell_type": "code",
   "execution_count": 76,
   "metadata": {
    "collapsed": true
   },
   "outputs": [],
   "source": [
    "def eulerError (x1, x2, h, derivFunc):\n",
    "    \"\"\"Returns the Euler leading error of a trapezoidal approximation with the given derivative\n",
    "    \n",
    "    arguments: x1 - first x-value in domain\n",
    "               x2 - second x-value in domain\n",
    "               h - step size for integration\n",
    "               derivFunc - the derivative of the function\n",
    "               \n",
    "    returned: the euler leading error\n",
    "    \"\"\"\n",
    "    \n",
    "    return 1 / 12 * h**2 * (derivFunc (x1) - derivFunc (x2))\n",
    "\n",
    "def error(actual, calculated):\n",
    "    \"\"\"Returns the unsigned error given an accepted value and an actual value\n",
    "    \n",
    "    arguements: accepted value, actual value\n",
    "    \n",
    "    returned: the absolute value of the difference between the two arguements\"\"\"\n",
    "    \n",
    "    err = abs(actual - calculated)\n",
    "    return err\n",
    "\n",
    "def integrate_adaptive (func, funcDeriv, epsilon, x1, x2, bVerbose = False, maxN = -1):\n",
    "    \"\"\"Calculates the integral of a given function only to a specified accuracy\n",
    "    \n",
    "    arguements: func - the function being integrated\n",
    "                derivFunc - first derivative of the given function\n",
    "                epsilon - the desired accuracy\n",
    "                x1 and x2 - the bounds\n",
    "                accpeted - the accepted value of the integral\n",
    "                bVerbose - whether the function prints out all of the data\n",
    "                maxN - max number of iterations for approximation, negative for infinite possible iterations\n",
    "                \n",
    "    returned:   I_new - the value of the integral\n",
    "                iterations - the number of times the integral was calculated\"\"\"\n",
    "    \n",
    "    iterations = 0\n",
    "    N = 1\n",
    "    I_old = 0\n",
    "    h = (x2 - x1)/N\n",
    "    I_new = h * (0.5 * func(x1) - 0.5 * func(x2))\n",
    "    errorValue = abs(eulerError (x1,  x2, h, funcDeriv))\n",
    "    # Calculates the integral with increasing accuracy until the desired accuracy is reached, or N > 1000\n",
    "    while errorValue > epsilon and (N < maxN or maxN < 0):\n",
    "        iterations += 1\n",
    "        I_old = I_new\n",
    "        N *= 2\n",
    "        h /= 2\n",
    "        # \"Updates\" the new integral from the old\n",
    "        I_new = 0.5 * I_old\n",
    "        errorValue = abs(eulerError (x1,  x2, h, funcDeriv))\n",
    "        \n",
    "        for i in range(1,N-1,2):\n",
    "            I_new += h * func(x1 + i * h)\n",
    "        if bVerbose:\n",
    "            string = \"I({}) = {} Error: {}\".format (iterations, I_new, errorValue)\n",
    "            print (string)\n",
    "            \n",
    "        \n",
    "    return I_new, iterations"
   ]
  },
  {
   "cell_type": "markdown",
   "metadata": {},
   "source": [
    "Test your new function out on the same benchmark integral\n",
    "$$\n",
    "\\int_0^1 e^{-x}\\,dx\n",
    "$$\n",
    "as last week, and see how many iterations $i$ (and thus steps $2^i$) are\n",
    "required to achieve a tolerance of $10^{-10}$."
   ]
  },
  {
   "cell_type": "code",
   "execution_count": 60,
   "metadata": {},
   "outputs": [
    {
     "name": "stdout",
     "output_type": "stream",
     "text": [
      "I(1) = 0.15803013970713942 Error: 0.013169178308928284\n",
      "I(2) = 0.2737152656214209 Error: 0.003292294577232071\n",
      "I(3) = 0.3999885840475302 Error: 0.0008230736443080178\n",
      "I(4) = 0.4913735450957247 Error: 0.00020576841107700444\n",
      "I(5) = 0.5498344535889635 Error: 5.144210276925111e-05\n",
      "I(6) = 0.5851260101211467 Error: 1.2860525692312777e-05\n",
      "I(7) = 0.6057234697148481 Error: 3.2151314230781944e-06\n",
      "I(8) = 0.6174785570504572 Error: 8.037828557695486e-07\n",
      "I(9) = 0.6240794377402961 Error: 2.0094571394238715e-07\n",
      "I(10) = 0.6277403397726977 Error: 5.023642848559679e-08\n",
      "I(11) = 0.6297507203774259 Error: 1.2559107121399197e-08\n",
      "I(12) = 0.6308458002165225 Error: 3.139776780349799e-09\n",
      "I(13) = 0.6314382660970846 Error: 7.849441950874498e-10\n",
      "I(14) = 0.6317569573169127 Error: 1.9623604877186245e-10\n",
      "I(15) = 0.6319275308914695 Error: 4.905901219296561e-11\n",
      "(0.6319275308914695, 15)\n",
      "0.632120558829\n"
     ]
    }
   ],
   "source": [
    "a = 0\n",
    "b = 1\n",
    "actualVal = -np.exp (-1) + 1\n",
    "IFinal = integrate_adaptive (negExp, negExpDerivFirst, 1e-10, a, b, bVerbose=True)\n",
    "print(IFinal)\n",
    "print (actualVal)"
   ]
  },
  {
   "cell_type": "markdown",
   "metadata": {
    "collapsed": true
   },
   "source": [
    "<div class=answer>\n",
    "<div/>\n",
    "  \n",
    "15 iterations"
   ]
  },
  {
   "cell_type": "markdown",
   "metadata": {},
   "source": [
    "## Exercise 3\n",
    "### Romberg integration\n",
    "\n",
    "In the interest of time, I have gone ahead and provided you with code for Romberg integration in ```romberg.py```.  It is basically just a straightforward extension of what you just coded for the trapezoidal rule.  (That is, as with most code, it is straightforward in *retrospect*, once it is written...)\n",
    "\n",
    "First, try the function ```romberg.romberg``` on our benchmark integral.  Enable the verbose output (```verbose=True```), and provide the function with the true value (```reference=...```) so it can print the residual.  Let us try for a tolerance of $10^{-10}$ again."
   ]
  },
  {
   "cell_type": "code",
   "execution_count": 9,
   "metadata": {},
   "outputs": [
    {
     "name": "stdout",
     "output_type": "stream",
     "text": [
      "integrating on range (0, 1)\n",
      "\n",
      "R(0,0) +6.839397205857212e-01\n",
      "\n",
      "R(1,0) +6.452351901491773e-01 epsilon(1,0) -1.2902e-02\n",
      "R(1,1) +6.323336800036626e-01\n",
      "\n",
      "R(2,0) +6.354094290276936e-01 epsilon(2,0) -3.2753e-03\n",
      "R(2,1) +6.321341753205323e-01 epsilon(2,1) -1.3300e-05\n",
      "R(2,2) +6.321208750083236e-01\n",
      "\n",
      "R(3,0) +6.329434182104802e-01 epsilon(3,0) -8.2200e-04\n",
      "R(3,1) +6.321214146047424e-01 epsilon(3,1) -8.5071e-07\n",
      "R(3,2) +6.321205638903564e-01 epsilon(3,2) -4.9384e-09\n",
      "R(3,3) +6.321205589519759e-01\n",
      "\n",
      "R(4,0) +6.323263138444998e-01 epsilon(4,0) -2.0570e-04\n",
      "R(4,1) +6.321206123891729e-01 epsilon(4,1) -5.3481e-08\n",
      "R(4,2) +6.321205589081349e-01 epsilon(4,2) -7.9083e-11\n",
      "R(4,3) +6.321205588290520e-01 epsilon(4,3) -4.8205e-13\n",
      "R(4,4) +6.321205588285700e-01\n",
      "\n"
     ]
    }
   ],
   "source": [
    "import romberg\n",
    "\n",
    "a = 0\n",
    "b = 1\n",
    "\n",
    "I_romberg = romberg.romberg(negExp,(a,b), 1e-10, verbose = True)"
   ]
  },
  {
   "cell_type": "markdown",
   "metadata": {},
   "source": [
    "How does the number of steps (and thus the number of points at which the integrand must be evaluated) compare to the number you needed before, with the trapezoidal rule?"
   ]
  },
  {
   "cell_type": "markdown",
   "metadata": {},
   "source": [
    "<div class=answer>\n",
    "<div/>\n",
    "The number of steps that needs to be evaluated is 31. About the same as that of Newman's trapezoid rule method."
   ]
  },
  {
   "cell_type": "markdown",
   "metadata": {},
   "source": [
    "Here is an interesting observation, which I think might make Romberg extrapolation fit in better with what we have already seen.  We now seem to have two ways of going to higher order - the good old-fashioned way of using higher-order polynomials to go through the points (Newton-Cotes) or this new clever Romberg extrapolation way.\n",
    "You might have noticed that:\n",
    "1. the trapezoidal rule had an error of order $O(h^2)$, \n",
    "\n",
    "2. Simpson's rule  had an error of order $O(h^4)$, and now \n",
    "\n",
    "3. the first Romberg extrapolated value $R_{i,1}$ also has an error of order $O(h^4)$\n",
    "\n",
    "    **Caution:** I am following the $0$-based convention that $R_{i,0}$ is the trapezoidal rule value, $R_{i,1}$ is the first extrapolation, *etc.*  Note that Newman uses $1$-based numbering, starting with $R_{i,1}$ for the trapezoidal rule, *etc.*, instead.\n",
    "\n",
    "Might the first Romberg extrapolated value actually *be* Simpson'a rule???  Or does it just have an error which happens to be of the same order?  \n",
    "\n",
    "More concretely...  Go ahead and do Simpson's rule calculations with $2^i$ steps, and compare with the first extrapolated values in the Romberg method.  Are they the same or different?  "
   ]
  },
  {
   "cell_type": "code",
   "execution_count": 10,
   "metadata": {},
   "outputs": [
    {
     "name": "stdout",
     "output_type": "stream",
     "text": [
      "Order 1 :  0.6323336800036626\n",
      "Order 2 :  0.6321341753205323\n",
      "Order 3 :  0.6321214146047422\n",
      "Order 4 :  0.6321206123891728\n"
     ]
    }
   ],
   "source": [
    "for i in [1,2,3,4]:\n",
    "    N = 2**i\n",
    "    I_simpson = integrate.integrate (negExp, (a, b), N, order = 2)[0]\n",
    "    print(\"Order\", i, \": \", I_simpson)"
   ]
  },
  {
   "cell_type": "markdown",
   "metadata": {},
   "source": [
    "<div class=answer>\n",
    "<div/>\n",
    "The values given by Simpson's rule match up exactly with those given by Romberg integration"
   ]
  },
  {
   "cell_type": "markdown",
   "metadata": {},
   "source": [
    "Explain your result in terms of the\n",
    "formulas for Simpson's rule, the trapezoidal rule, and Romberg\n",
    "extrapolation."
   ]
  },
  {
   "cell_type": "markdown",
   "metadata": {},
   "source": [
    "<div class=answer>\n",
    "<div/>\n",
    "Simpson's rule is calcualted by (1/3) * h multipled by the sum of the f(x) values at each slice, where odd slices are multiplied by 4, even slices are multipled by 2, and the end poitns are multipled by 1. Romberg integration starts with the trapezoid rule formula, so the endpoints are multipled by (1/2), but when the next term is calcualted this factor gets transformed to (1/3). Also, since with each calculation, we subtract Ii-1, the odd slices will have double the weight of the even slices. This makes Rhomberg integration equivalent to Simpson's rule."
   ]
  },
  {
   "cell_type": "markdown",
   "metadata": {},
   "source": [
    "## Exercise 4\n",
    "### Life gets messy\n",
    "\n",
    "** Note:** You may find your output in this section to be too much information.  You do not need to print out the entirety of the verbose output for all these\n",
    "calculations.  \n",
    "\n",
    "Now that we are equipped with all these ultrapowerful integration\n",
    "algorithms, we should be ready to face any problem which is thrown at\n",
    "us, right???  So calculating the area of a circle should be a piece of\n",
    "cake, right?\n",
    "\n",
    "*Ha! Since when has ```pi``` been cake?*\n",
    "\n",
    "Plot the graph of the function $f(x)=\\sqrt{1-x^2}$ on $[-1,1]$."
   ]
  },
  {
   "cell_type": "code",
   "execution_count": 57,
   "metadata": {},
   "outputs": [
    {
     "data": {
      "image/png": "[encoded data removed]",
      "text/plain": [
       "<matplotlib.figure.Figure at 0x7cd49e8>"
      ]
     },
     "metadata": {},
     "output_type": "display_data"
    }
   ],
   "source": [
    "%matplotlib inline\n",
    "import pylab as plt\n",
    "from math import sqrt, pi\n",
    "\n",
    "def circleFunc (x):\n",
    "\n",
    "    return sqrt(1 - x**2)\n",
    "\n",
    "def circleFuncDeriv (x):\n",
    "    if x == 1 or x == -1:\n",
    "        deriv = 0\n",
    "    else: \n",
    "        deriv = - x / sqrt(1 - x**2)\n",
    "    return deriv\n",
    "\n",
    "length = 100\n",
    "x = np.linspace (-1,1,length)\n",
    "y = []\n",
    "\n",
    "for n in range(0,length):\n",
    "    y.append(circleFunc (x[n]))\n",
    "   \n",
    "plt.plot(x,y)\n",
    "plt.show()"
   ]
  },
  {
   "cell_type": "markdown",
   "metadata": {},
   "source": [
    "What is the analytically known value of the integral\n",
    "$$\n",
    "\\int_{-1}^{1}\\sqrt{1-x^2}\\,dx?\n",
    "$$\n",
    "**Note:** You may quote results from elementary school without further proof."
   ]
  },
  {
   "cell_type": "markdown",
   "metadata": {},
   "source": [
    "<div class=answer>\n",
    "<div/>\n",
    "(1/2)pi x^2"
   ]
  },
  {
   "cell_type": "markdown",
   "metadata": {},
   "source": [
    "To reach a tolerence of $10^{-10}$ with the trapezoidal rule, how many\n",
    "iterations (and thus steps) are required?  Do you find that the\n",
    "residual of your \n",
    "calculated result, relative to the known true value, is consistent with the\n",
    "tolerance you asked for?  How about with Romberg extrapolation?"
   ]
  },
  {
   "cell_type": "code",
   "execution_count": 61,
   "metadata": {},
   "outputs": [
    {
     "name": "stdout",
     "output_type": "stream",
     "text": [
      "(0.0, 0)\n",
      "1.5707963267948966\n",
      "\n",
      "integrating on range (-1, 1)\n",
      "\n",
      "R(0,0) +0.000000000000000e+00\n",
      "\n",
      "R(1,0) +1.000000000000000e+00 epsilon(1,0) +3.3333e-01\n",
      "R(1,1) +1.333333333333333e+00\n",
      "\n",
      "R(2,0) +1.366025403784439e+00 epsilon(2,0) +1.2201e-01\n",
      "R(2,1) +1.488033871712585e+00 epsilon(2,1) +1.0313e-02\n",
      "R(2,2) +1.498347240937868e+00\n",
      "\n",
      "R(3,0) +1.497854534051220e+00 epsilon(3,0) +4.3943e-02\n",
      "R(3,1) +1.541797577473481e+00 epsilon(3,1) +3.5842e-03\n",
      "R(3,2) +1.545381824524207e+00 epsilon(3,2) +7.4658e-04\n",
      "R(3,3) +1.546128405216054e+00\n",
      "\n",
      "R(4,0) +1.544909572178587e+00 epsilon(4,0) +1.5685e-02\n",
      "R(4,1) +1.560594584887709e+00 epsilon(4,1) +1.2531e-03\n",
      "R(4,2) +1.561847718715324e+00 epsilon(4,2) +2.6136e-04\n",
      "R(4,3) +1.562109082115183e+00 epsilon(4,3) +6.2669e-05\n",
      "R(4,4) +1.562171751436356e+00\n",
      "\n",
      "R(5,0) +1.561626518913870e+00 epsilon(5,0) +5.5723e-03\n",
      "R(5,1) +1.567198834492298e+00 epsilon(5,1) +4.4028e-04\n",
      "R(5,2) +1.567639117799270e+00 epsilon(5,2) +9.1927e-05\n",
      "R(5,3) +1.567731044768857e+00 epsilon(5,3) +2.2047e-05\n",
      "R(5,4) +1.567753091681224e+00 epsilon(5,4) +5.4559e-06\n",
      "R(5,5) +1.567758547536791e+00\n",
      "\n",
      "R(6,0) +1.567551211438565e+00 epsilon(6,0) +1.9749e-03\n",
      "R(6,1) +1.569526108946797e+00 epsilon(6,1) +1.5515e-04\n",
      "R(6,2) +1.569681260577097e+00 epsilon(6,2) +3.2415e-05\n",
      "R(6,3) +1.569713675541825e+00 epsilon(6,3) +7.7750e-06\n",
      "R(6,4) +1.569721450564464e+00 epsilon(6,4) +1.9241e-06\n",
      "R(6,5) +1.569723374668944e+00 epsilon(6,5) +4.7981e-07\n",
      "R(6,6) +1.569723854480209e+00\n",
      "\n",
      "R(7,0) +1.569648456389842e+00 epsilon(7,0) +6.9908e-04\n",
      "R(7,1) +1.570347538040268e+00 epsilon(7,1) +5.4762e-05\n",
      "R(7,2) +1.570402299979833e+00 epsilon(7,2) +1.1445e-05\n",
      "R(7,3) +1.570413745049717e+00 epsilon(7,3) +2.7454e-06\n",
      "R(7,4) +1.570416490420336e+00 epsilon(7,4) +6.7941e-07\n",
      "R(7,5) +1.570417169833685e+00 epsilon(7,5) +1.6942e-07\n",
      "R(7,6) +1.570417339258634e+00 epsilon(7,6) +4.2330e-08\n",
      "R(7,7) +1.570417381588169e+00\n",
      "\n",
      "R(8,0) +1.570390396198307e+00 epsilon(8,0) +2.4731e-04\n",
      "R(8,1) +1.570637709467795e+00 epsilon(8,1) +1.9345e-05\n",
      "R(8,2) +1.570657054229630e+00 epsilon(8,2) +4.0437e-06\n",
      "R(8,3) +1.570661097947881e+00 epsilon(8,3) +9.7001e-07\n",
      "R(8,4) +1.570662067959246e+00 epsilon(8,4) +2.4006e-07\n",
      "R(8,5) +1.570662308015491e+00 epsilon(8,5) +5.9863e-08\n",
      "R(8,6) +1.570662367878295e+00 epsilon(8,6) +1.4956e-08\n",
      "R(8,7) +1.570662382834568e+00 epsilon(8,7) +3.7385e-09\n",
      "R(8,8) +1.570662386573047e+00\n",
      "\n",
      "R(9,0) +1.570652791478616e+00 epsilon(9,0) +8.7465e-05\n",
      "R(9,1) +1.570740256572052e+00 epsilon(9,1) +6.8365e-06\n",
      "R(9,2) +1.570747093045669e+00 epsilon(9,2) +1.4292e-06\n",
      "R(9,3) +1.570748522233225e+00 epsilon(9,3) +3.4284e-07\n",
      "R(9,4) +1.570748865073560e+00 epsilon(9,4) +8.4846e-08\n",
      "R(9,5) +1.570748949919224e+00 epsilon(9,5) +2.1158e-08\n",
      "R(9,6) +1.570748971077198e+00 epsilon(9,6) +5.2862e-09\n",
      "R(9,7) +1.570748976363360e+00 epsilon(9,7) +1.3213e-09\n",
      "R(9,8) +1.570748977684693e+00 epsilon(9,8) +3.3032e-10\n",
      "R(9,9) +1.570748978015013e+00\n",
      "\n",
      "R(10,0) +1.570745576359828e+00 epsilon(10,0) +3.0928e-05\n",
      "R(10,1) +1.570776504653565e+00 epsilon(10,1) +2.4165e-06\n",
      "R(10,2) +1.570778921192332e+00 epsilon(10,2) +5.0521e-07\n",
      "R(10,3) +1.570779426401010e+00 epsilon(10,3) +1.2119e-07\n",
      "R(10,4) +1.570779547593824e+00 epsilon(10,4) +2.9993e-08\n",
      "R(10,5) +1.570779577586513e+00 epsilon(10,5) +7.4793e-09\n",
      "R(10,6) +1.570779585065797e+00 epsilon(10,6) +1.8686e-09\n",
      "R(10,7) +1.570779586934441e+00 epsilon(10,7) +4.6709e-10\n",
      "R(10,8) +1.570779587401528e+00 epsilon(10,8) +1.1677e-10\n",
      "R(10,9) +1.570779587518295e+00 epsilon(10,9) +2.9192e-11\n",
      "R(10,10) +1.570779587547487e+00\n",
      "\n",
      "1.5707963267948966\n"
     ]
    }
   ],
   "source": [
    "a = -1\n",
    "b = 1\n",
    "actualVal = (1/2) * pi\n",
    "\n",
    "ICircle1 = integrate_adaptive (circleFunc, circleFuncDeriv, 1e-10, -1, 1, bVerbose=True)\n",
    "\n",
    "print(ICircle1)\n",
    "print (actualVal)\n",
    "print ()\n",
    "\n",
    "ICircle2 = romberg.romberg(circleFunc,(a,b), 1e-10, verbose = True)\n",
    "\n",
    "print(actualVal)\n",
    "\n"
   ]
  },
  {
   "cell_type": "markdown",
   "metadata": {},
   "source": [
    "<div class=answer>\n",
    "<div/>\n",
    "Using the integrate_adaptive function, only one iteration is run, because the calculated error is equal to 0 right from the beginning. However, the actual value is not at all accurate. Using Romberg integration, 67 iterations are used, and the error is consistant with our tolerance."
   ]
  },
  {
   "cell_type": "markdown",
   "metadata": {},
   "source": [
    "Looking back at the\n",
    "Euler-Maclaurin formula, why might we expect this integral to be\n",
    "problematic?\n",
    "\n",
    "**Comment:**  Our whole analysis is based on the idea that the error in the trapezoidal rule is $O(h^2)$.  But occasionally the coefficient on $h^2$ can be important...\n"
   ]
  },
  {
   "cell_type": "markdown",
   "metadata": {},
   "source": [
    "<div class=answer>\n",
    "<div/>\n",
    "The integral is problematic, becuase f'(a) = f'(b), so the error calcualted will alwyas be zero because f'(a) - f'(b) is a factor."
   ]
  },
  {
   "cell_type": "markdown",
   "metadata": {},
   "source": [
    "There is a further lesson to be learned here.   Sometimes just throwing numerical methods at a problem is not enough.  A little forethought can allow us to\n",
    "transform the problem into one which is more amenable to numerical solution.  Try\n",
    "making the trigonometric substitution $x=\\cos u$.\n",
    "\n",
    "You should have just found that the integral an equivalent to\n",
    "$\\int_0^\\pi \\sin^2 u\\,du$.  Do we still expect trouble?  (Explain.)  "
   ]
  },
  {
   "cell_type": "markdown",
   "metadata": {},
   "source": [
    "<div class=answer>\n",
    "<div/>\n",
    "We still expect trouble, because d/dx sin^2(u) = 2sin(u)cos(u) which is equal at points 0 and pi."
   ]
  },
  {
   "cell_type": "markdown",
   "metadata": {},
   "source": [
    "How does this transformed integral fare with the Romberg method?"
   ]
  },
  {
   "cell_type": "code",
   "execution_count": 63,
   "metadata": {},
   "outputs": [
    {
     "name": "stdout",
     "output_type": "stream",
     "text": [
      "integrating on range (0, 3.141592653589793)\n",
      "\n",
      "R(0,0) +2.355817157679958e-32\n",
      "\n",
      "R(1,0) +1.570796326794897e+00 epsilon(1,0) +5.2360e-01\n",
      "R(1,1) +2.094395102393195e+00\n",
      "\n",
      "R(2,0) +1.570796326794897e+00 epsilon(2,0) +0.0000e+00\n",
      "R(2,1) +1.570796326794897e+00 epsilon(2,1) -3.4907e-02\n",
      "R(2,2) +1.535889741755010e+00\n",
      "\n",
      "R(3,0) +1.570796326794897e+00 epsilon(3,0) +7.4015e-17\n",
      "R(3,1) +1.570796326794897e+00 epsilon(3,1) +1.4803e-17\n",
      "R(3,2) +1.570796326794897e+00 epsilon(3,2) +5.5407e-04\n",
      "R(3,3) +1.571350399573308e+00\n",
      "\n",
      "R(4,0) +1.570796326794897e+00 epsilon(4,0) +0.0000e+00\n",
      "R(4,1) +1.570796326794897e+00 epsilon(4,1) +0.0000e+00\n",
      "R(4,2) +1.570796326794897e+00 epsilon(4,2) -7.0490e-18\n",
      "R(4,3) +1.570796326794897e+00 epsilon(4,3) -2.1728e-06\n",
      "R(4,4) +1.570794153960472e+00\n",
      "\n",
      "R(5,0) +1.570796326794897e+00 epsilon(5,0) +0.0000e+00\n",
      "R(5,1) +1.570796326794897e+00 epsilon(5,1) +0.0000e+00\n",
      "R(5,2) +1.570796326794897e+00 epsilon(5,2) +0.0000e+00\n",
      "R(5,3) +1.570796326794897e+00 epsilon(5,3) +0.0000e+00\n",
      "R(5,4) +1.570796326794897e+00 epsilon(5,4) +2.1240e-09\n",
      "R(5,5) +1.570796328918880e+00\n",
      "\n",
      "R(6,0) +1.570796326794896e+00 epsilon(6,0) -1.4803e-16\n",
      "R(6,1) +1.570796326794896e+00 epsilon(6,1) -4.4409e-17\n",
      "R(6,2) +1.570796326794896e+00 epsilon(6,2) -1.0574e-17\n",
      "R(6,3) +1.570796326794896e+00 epsilon(6,3) -2.6123e-18\n",
      "R(6,4) +1.570796326794896e+00 epsilon(6,4) -6.5116e-19\n",
      "R(6,5) +1.570796326794896e+00 epsilon(6,5) -5.1868e-13\n",
      "R(6,6) +1.570796326794377e+00\n",
      "\n",
      "1.5707963267948966\n"
     ]
    }
   ],
   "source": [
    "from math import sin\n",
    "\n",
    "def sinFunc (x):\n",
    "    return sin(x)**2\n",
    "\n",
    "a = 0\n",
    "b = pi\n",
    "\n",
    "ICircle3 = romberg.romberg(sinFunc,(a,b), 1e-10, verbose = True)\n",
    "\n",
    "print(actualVal)"
   ]
  },
  {
   "cell_type": "markdown",
   "metadata": {},
   "source": [
    "<div class=answer>\n",
    "<div/>\n",
    "It works well"
   ]
  },
  {
   "cell_type": "markdown",
   "metadata": {},
   "source": [
    "## Exercise 5\n",
    "### Life continues to be messy: Oscillatory integrands\n",
    "\n",
    "One perpetual bane of physicists' existence is highly oscillator\n",
    "integrands.  \n",
    "\n",
    "Let us look at the integral\n",
    "$$\n",
    "\\int_0^{2\\pi} e^x \\sin 100x \\,dx.\n",
    "$$\n",
    "First, plot the integrand.  Comment on why it might be problematic.\n",
    "Can you speculate on how many slices might be needed for successful evaluation?"
   ]
  },
  {
   "cell_type": "code",
   "execution_count": 74,
   "metadata": {
    "collapsed": true
   },
   "outputs": [],
   "source": [
    "import math\n",
    "\n",
    "def funkyFunc (x):\n",
    "    return math.exp (x) * math.sin (100 * x)\n",
    "\n",
    "def funkyFuncDeriv (x):\n",
    "    return 100 * math.exp (x) * math.cos (100 * x) + math.exp (x) * sin (100 * x) "
   ]
  },
  {
   "cell_type": "code",
   "execution_count": 71,
   "metadata": {},
   "outputs": [
    {
     "data": {
      "image/png": "[encoded data removed]",
      "text/plain": [
       "<matplotlib.figure.Figure at 0x7c7b1d0>"
      ]
     },
     "metadata": {},
     "output_type": "display_data"
    }
   ],
   "source": [
    "%matplotlib inline\n",
    "import pylab as plt\n",
    "x1 = 0\n",
    "x2 = 2 * math.pi\n",
    "length = 1000\n",
    "\n",
    "x = np.linspace (x1, x2, length)\n",
    "y = []\n",
    "\n",
    "for n in range(0,length):\n",
    "    y.append(funkyFunc (x[n]))\n",
    "   \n",
    "plt.plot(x,y)\n",
    "plt.show()"
   ]
  },
  {
   "cell_type": "markdown",
   "metadata": {},
   "source": [
    "<div class=answer>\n",
    "<div/>\n",
    "This might be problamatic because there are small slices (width wise) that exponential increase in value. It will be tricky to have our trapezoids fit inside the function!"
   ]
  },
  {
   "cell_type": "markdown",
   "metadata": {},
   "source": [
    "Then, see how Romberg fares on this integral.  Comment."
   ]
  },
  {
   "cell_type": "code",
   "execution_count": 77,
   "metadata": {},
   "outputs": [
    {
     "name": "stdout",
     "output_type": "stream",
     "text": [
      "I(1) = -3.304681206705777e-12 Error: 43960.17663093961\n",
      "I(2) = -1.6449188750999148e-12 Error: 10990.044157734903\n",
      "I(3) = 8.837880368676713e-13 Error: 2747.5110394337257\n",
      "I(4) = 44.648174055812866 Error: 686.8777598584314\n",
      "I(5) = 13.253460253736215 Error: 171.71943996460786\n",
      "I(6) = 53.0135061879742 Error: 42.929859991151964\n",
      "I(7) = 15.318931759548509 Error: 10.732464997787991\n",
      "I(8) = 5.468130442607874 Error: 2.683116249446998\n",
      "I(9) = 5.363044198189389 Error: 0.6707790623617494\n",
      "I(10) = 1.7143489195255754 Error: 0.16769476559043736\n",
      "I(11) = -1.3627691278143452 Error: 0.04192369139760934\n",
      "I(12) = -3.238764978236421 Error: 0.010480922849402335\n",
      "I(13) = -4.262748986631143 Error: 0.0026202307123505838\n",
      "I(14) = -4.79635027198579 Error: 0.0006550576780876459\n",
      "I(15) = -5.068561614313789 Error: 0.00016376441952191149\n",
      "I(16) = -5.206020649509321 Error: 4.094110488047787e-05\n",
      "I(17) = -5.275088571836883 Error: 1.0235276220119468e-05\n",
      "I(18) = -5.309707140746739 Error: 2.558819055029867e-06\n",
      "I(19) = -5.3270375778709145 Error: 6.397047637574667e-07\n",
      "I(20) = -5.335708084686581 Error: 1.5992619093936669e-07\n",
      "I(21) = -5.340044660167866 Error: 3.998154773484167e-08\n",
      "I(22) = -5.342213278428254 Error: 9.995386933710418e-09\n",
      "I(23) = -5.343297670188832 Error: 2.4988467334276045e-09\n",
      "I(24) = -5.343839886726694 Error: 6.247116833569011e-10\n",
      "I(25) = -5.3441110001592556 Error: 1.5617792083922528e-10\n",
      "I(26) = -5.3442465581661605 Error: 3.904448020980632e-11\n",
      "integrating on range (0, 6.283185307179586)\n",
      "\n",
      "R(0,0) +6.609362413411554e-12\n",
      "\n",
      "R(1,0) +3.447489430260185e-12 epsilon(1,0) -1.0540e-12\n",
      "R(1,1) +2.393531769209728e-12\n",
      "\n",
      "2.3935317692097285e-12\n"
     ]
    }
   ],
   "source": [
    "a = 0\n",
    "b = 2 * pi\n",
    "\n",
    "integralFunkyFuncAdap = integrate_adaptive (funkyFunc, funkyFuncDeriv, 1e-10, a, b, bVerbose=False)\n",
    "\n",
    "integralFunkyFunc = romberg.romberg(funkyFunc, (a,b), 1e-10, verbose = True)\n",
    "\n",
    "print (integralFunkyFunc)\n",
    "print (integralFunkyFuncAdap)"
   ]
  },
  {
   "cell_type": "markdown",
   "metadata": {},
   "source": [
    "<div class=answer>\n",
    "<div/>\n",
    "The Romberg method does not fair very well. The value supplied by the Romberg's approximation was far off from the accepted value (which is close to the value obtained by our adaptive method)."
   ]
  },
  {
   "cell_type": "markdown",
   "metadata": {},
   "source": [
    "Now try the integral\n",
    "$$\n",
    "\\int_0^{2\\pi} e^x \\sin 128x \\,dx.\n",
    "$$\n",
    "See how Romberg fares on this integral, and comment on why.\n",
    "Please attach your plot of the integrand."
   ]
  },
  {
   "cell_type": "code",
   "execution_count": 80,
   "metadata": {
    "collapsed": true
   },
   "outputs": [],
   "source": [
    "def funkiestFunc (x):\n",
    "    return math.exp (x) * math.sin (128 * x)\n",
    "\n",
    "def funkiestFuncDeriv (x):\n",
    "    return 128 * math.exp (x) * math.cos (128 * x) + math.exp (x) * sin (128 * x) "
   ]
  },
  {
   "cell_type": "code",
   "execution_count": 81,
   "metadata": {},
   "outputs": [
    {
     "name": "stdout",
     "output_type": "stream",
     "text": [
      "integrating on range (0, 6.283185307179586)\n",
      "\n",
      "R(0,0) -5.274161174863635e-11\n",
      "\n",
      "R(1,0) -2.751039172392076e-11 epsilon(1,0) +8.4104e-12\n",
      "R(1,1) -1.909998504901557e-11\n",
      "\n",
      "-1.909998504901557e-11\n",
      "(-4.175337725791389, 26)\n"
     ]
    }
   ],
   "source": [
    "a = 0\n",
    "b = 2 * pi\n",
    "\n",
    "integralFunkiestFuncAdap = integrate_adaptive (funkiestFunc, funkiestFuncDeriv, 1e-10, a, b, bVerbose=False)\n",
    "\n",
    "integralFunkiestFunc = romberg.romberg(funkiestFunc, (a,b), 1e-10, verbose = True)\n",
    "\n",
    "print (integralFunkiestFunc)\n",
    "print (integralFunkiestFuncAdap)"
   ]
  },
  {
   "cell_type": "markdown",
   "metadata": {},
   "source": [
    "<div class=answer>\n",
    "<div/>\n",
    "Romberg's function does not work very well for this function as well. The value provided by the Romberg's approximation is significantly less than the accepted value."
   ]
  },
  {
   "cell_type": "code",
   "execution_count": 87,
   "metadata": {},
   "outputs": [
    {
     "data": {
      "image/png": "[encoded data removed]",
      "text/plain": [
       "<matplotlib.figure.Figure at 0x7a4e550>"
      ]
     },
     "metadata": {},
     "output_type": "display_data"
    }
   ],
   "source": [
    "%matplotlib inline\n",
    "import pylab as plt\n",
    "\n",
    "x1 = 0\n",
    "x2 = 2 * math.pi\n",
    "length = 100000\n",
    "\n",
    "x = np.linspace (x1, x2, length)\n",
    "y = []\n",
    "\n",
    "for n in range(0,length):\n",
    "    y.append(funkiestFunc (x[n]))\n",
    "   \n",
    "plt.plot(x,y)\n",
    "plt.show()"
   ]
  },
  {
   "cell_type": "markdown",
   "metadata": {},
   "source": [
    "## Exercise 6\n",
    "### Integrals over infinite ranges\n",
    "\n",
    "Let us start by reproducing Newmans's Example 5.3 (on page 180).  But please ignore Newman's code for Gaussian integration.  Instead, we will continue to use our own Romberg integration function.\n",
    "\n",
    "Integrands which involve the Gaussian $e^{-x^2}$ show up throughout\n",
    "physics.  The basic Gaussian integral has a simple known value, so we\n",
    "will use it as our test case (as we used last week ):\n",
    "$$\n",
    "\\int_{-\\infty}^\\infty e^{-x^2}\\,dx=\\sqrt{\\pi}.\n",
    "$$\n",
    "\n",
    "The integrand is symmetric, so we are free to consider just one half\n",
    "($\\int_{0}^\\infty e^{-x^2}\\,dx$), as Newman uses for his example, then\n",
    "double the result.  Let us transform this integral according\n",
    "to (5.67), to make sure we see how Newman got his expression.\n",
    "\n",
    "**Sorry about the\n",
    "overloading of Gauss's name. A \"Gaussian integral\" is an integral of\n",
    "the Gaussian function.  \"Gaussian integration\" is integration by Gaussian\n",
    "quadrature.  The two are not particularly related.**"
   ]
  },
  {
   "cell_type": "markdown",
   "metadata": {},
   "source": [
    "<div class=answer>\n",
    "<div/>\n",
    "Answer here"
   ]
  },
  {
   "cell_type": "markdown",
   "metadata": {},
   "source": [
    "Now try to evaluate the transformed integral using the Romberg\n",
    "method.  What problem do you encounter, and how can you fix it?\n",
    "It will help to make a plot of the integrand.\n",
    "\n",
    "**Hint:** From looking at the plot,  what is the integrand's limit as $z\\rightarrow 1$?\n"
   ]
  },
  {
   "cell_type": "code",
   "execution_count": 18,
   "metadata": {
    "collapsed": true
   },
   "outputs": [],
   "source": [
    "#your code here"
   ]
  },
  {
   "cell_type": "markdown",
   "metadata": {},
   "source": [
    "<div class=answer>\n",
    "<div/>\n",
    "Answer here"
   ]
  },
  {
   "cell_type": "markdown",
   "metadata": {},
   "source": [
    "Finally, how does the Romberg method fare on the integral? Explain."
   ]
  },
  {
   "cell_type": "code",
   "execution_count": 19,
   "metadata": {
    "collapsed": true
   },
   "outputs": [],
   "source": [
    "#your code here"
   ]
  },
  {
   "cell_type": "markdown",
   "metadata": {},
   "source": [
    "<div class=answer>\n",
    "<div/>\n",
    "Answer here"
   ]
  },
  {
   "cell_type": "markdown",
   "metadata": {},
   "source": [
    "Plot your transformed integrand."
   ]
  },
  {
   "cell_type": "code",
   "execution_count": 20,
   "metadata": {
    "collapsed": true
   },
   "outputs": [],
   "source": [
    "#your code here"
   ]
  },
  {
   "cell_type": "markdown",
   "metadata": {},
   "source": [
    "## Numerical differentiation\n",
    "\n",
    "** Newman Exercise 5.15 **\n",
    "\n",
    "Create a user-defined function ```f(x)``` that returns the value $1 + \\frac{1}{2} \\tanh(2x)$, then use a central difference to calculate the derivative of the function in the range $-2\\le x\\le2$.  Calculate an analytic formula for the derivative and make a graph with your numerical result and the analytic answer on the same plot.  It may help to plot the exact answer as lines and the numerical one as dots.  \n",
    "\n",
    "**Hint:** In Python the ```tanh``` function is found in the ```math``` package, and it's called simply ```tanh```.\n",
    "\n",
    "Please attach your code and plots.\n"
   ]
  },
  {
   "cell_type": "code",
   "execution_count": 21,
   "metadata": {
    "collapsed": true
   },
   "outputs": [],
   "source": [
    "#your code here"
   ]
  },
  {
   "cell_type": "code",
   "execution_count": null,
   "metadata": {
    "collapsed": true
   },
   "outputs": [],
   "source": []
  }
 ],
 "metadata": {
  "kernelspec": {
   "display_name": "Python 3",
   "language": "python",
   "name": "python3"
  },
  "language_info": {
   "codemirror_mode": {
    "name": "ipython",
    "version": 3
   },
   "file_extension": ".py",
   "mimetype": "text/x-python",
   "name": "python",
   "nbconvert_exporter": "python",
   "pygments_lexer": "ipython3",
   "version": "3.4.5"
  }
 },
 "nbformat": 4,
 "nbformat_minor": 2
}
